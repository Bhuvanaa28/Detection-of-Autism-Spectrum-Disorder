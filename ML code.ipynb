{
  "cells": [
    {
      "cell_type": "code",
      "execution_count": 1,
      "id": "mUy40669NXCO",
      "metadata": {
        "id": "mUy40669NXCO"
      },
      "outputs": [],
      "source": [
        "import pandas as pd\n",
        "import numpy as np\n",
        "import pickle"
      ]
    },
    {
      "cell_type": "code",
      "execution_count": 2,
      "id": "o0DcVCpNNXCW",
      "metadata": {
        "id": "o0DcVCpNNXCW"
      },
      "outputs": [],
      "source": [
        "df1 = pd.read_csv(\"Datasets\\\\autism_screening_ADULT.csv\")\n",
        "df2 = pd.read_csv(\"Datasets\\\\autism_screening_CHILDREN.csv\")\n",
        "df3 = pd.read_csv(\"Datasets\\\\autism_screening_TODDLER.csv\")"
      ]
    },
    {
      "cell_type": "code",
      "execution_count": 3,
      "id": "axvuhyorNXCY",
      "metadata": {
        "colab": {
          "base_uri": "https://localhost:8080/",
          "height": 386
        },
        "id": "axvuhyorNXCY",
        "outputId": "a7b02f05-fc3f-496a-8747-06dfa220793f",
        "scrolled": false
      },
      "outputs": [
        {
          "data": {
            "text/html": [
              "<div>\n",
              "<style scoped>\n",
              "    .dataframe tbody tr th:only-of-type {\n",
              "        vertical-align: middle;\n",
              "    }\n",
              "\n",
              "    .dataframe tbody tr th {\n",
              "        vertical-align: top;\n",
              "    }\n",
              "\n",
              "    .dataframe thead th {\n",
              "        text-align: right;\n",
              "    }\n",
              "</style>\n",
              "<table border=\"1\" class=\"dataframe\">\n",
              "  <thead>\n",
              "    <tr style=\"text-align: right;\">\n",
              "      <th></th>\n",
              "      <th>A1_Score</th>\n",
              "      <th>A2_Score</th>\n",
              "      <th>A3_Score</th>\n",
              "      <th>A4_Score</th>\n",
              "      <th>A5_Score</th>\n",
              "      <th>A6_Score</th>\n",
              "      <th>A7_Score</th>\n",
              "      <th>A8_Score</th>\n",
              "      <th>A9_Score</th>\n",
              "      <th>A10_Score</th>\n",
              "      <th>...</th>\n",
              "      <th>gender</th>\n",
              "      <th>ethnicity</th>\n",
              "      <th>jundice</th>\n",
              "      <th>austim</th>\n",
              "      <th>contry_of_res</th>\n",
              "      <th>used_app_before</th>\n",
              "      <th>result</th>\n",
              "      <th>age_desc</th>\n",
              "      <th>relation</th>\n",
              "      <th>Class/ASD</th>\n",
              "    </tr>\n",
              "  </thead>\n",
              "  <tbody>\n",
              "    <tr>\n",
              "      <th>0</th>\n",
              "      <td>1</td>\n",
              "      <td>1</td>\n",
              "      <td>1</td>\n",
              "      <td>1</td>\n",
              "      <td>0</td>\n",
              "      <td>0</td>\n",
              "      <td>1</td>\n",
              "      <td>1</td>\n",
              "      <td>0</td>\n",
              "      <td>0</td>\n",
              "      <td>...</td>\n",
              "      <td>f</td>\n",
              "      <td>White-European</td>\n",
              "      <td>no</td>\n",
              "      <td>no</td>\n",
              "      <td>United States</td>\n",
              "      <td>no</td>\n",
              "      <td>6.0</td>\n",
              "      <td>18 and more</td>\n",
              "      <td>Self</td>\n",
              "      <td>NO</td>\n",
              "    </tr>\n",
              "    <tr>\n",
              "      <th>1</th>\n",
              "      <td>1</td>\n",
              "      <td>1</td>\n",
              "      <td>0</td>\n",
              "      <td>1</td>\n",
              "      <td>0</td>\n",
              "      <td>0</td>\n",
              "      <td>0</td>\n",
              "      <td>1</td>\n",
              "      <td>0</td>\n",
              "      <td>1</td>\n",
              "      <td>...</td>\n",
              "      <td>m</td>\n",
              "      <td>Latino</td>\n",
              "      <td>no</td>\n",
              "      <td>yes</td>\n",
              "      <td>Brazil</td>\n",
              "      <td>no</td>\n",
              "      <td>5.0</td>\n",
              "      <td>18 and more</td>\n",
              "      <td>Self</td>\n",
              "      <td>NO</td>\n",
              "    </tr>\n",
              "    <tr>\n",
              "      <th>2</th>\n",
              "      <td>1</td>\n",
              "      <td>1</td>\n",
              "      <td>0</td>\n",
              "      <td>1</td>\n",
              "      <td>1</td>\n",
              "      <td>0</td>\n",
              "      <td>1</td>\n",
              "      <td>1</td>\n",
              "      <td>1</td>\n",
              "      <td>1</td>\n",
              "      <td>...</td>\n",
              "      <td>m</td>\n",
              "      <td>Latino</td>\n",
              "      <td>yes</td>\n",
              "      <td>yes</td>\n",
              "      <td>Spain</td>\n",
              "      <td>no</td>\n",
              "      <td>8.0</td>\n",
              "      <td>18 and more</td>\n",
              "      <td>Parent</td>\n",
              "      <td>YES</td>\n",
              "    </tr>\n",
              "    <tr>\n",
              "      <th>3</th>\n",
              "      <td>1</td>\n",
              "      <td>1</td>\n",
              "      <td>0</td>\n",
              "      <td>1</td>\n",
              "      <td>0</td>\n",
              "      <td>0</td>\n",
              "      <td>1</td>\n",
              "      <td>1</td>\n",
              "      <td>0</td>\n",
              "      <td>1</td>\n",
              "      <td>...</td>\n",
              "      <td>f</td>\n",
              "      <td>White-European</td>\n",
              "      <td>no</td>\n",
              "      <td>yes</td>\n",
              "      <td>United States</td>\n",
              "      <td>no</td>\n",
              "      <td>6.0</td>\n",
              "      <td>18 and more</td>\n",
              "      <td>Self</td>\n",
              "      <td>NO</td>\n",
              "    </tr>\n",
              "    <tr>\n",
              "      <th>4</th>\n",
              "      <td>1</td>\n",
              "      <td>0</td>\n",
              "      <td>0</td>\n",
              "      <td>0</td>\n",
              "      <td>0</td>\n",
              "      <td>0</td>\n",
              "      <td>0</td>\n",
              "      <td>1</td>\n",
              "      <td>0</td>\n",
              "      <td>0</td>\n",
              "      <td>...</td>\n",
              "      <td>f</td>\n",
              "      <td>?</td>\n",
              "      <td>no</td>\n",
              "      <td>no</td>\n",
              "      <td>Egypt</td>\n",
              "      <td>no</td>\n",
              "      <td>2.0</td>\n",
              "      <td>18 and more</td>\n",
              "      <td>?</td>\n",
              "      <td>NO</td>\n",
              "    </tr>\n",
              "  </tbody>\n",
              "</table>\n",
              "<p>5 rows × 21 columns</p>\n",
              "</div>"
            ],
            "text/plain": [
              "   A1_Score  A2_Score  A3_Score  A4_Score  A5_Score  A6_Score  A7_Score  \\\n",
              "0         1         1         1         1         0         0         1   \n",
              "1         1         1         0         1         0         0         0   \n",
              "2         1         1         0         1         1         0         1   \n",
              "3         1         1         0         1         0         0         1   \n",
              "4         1         0         0         0         0         0         0   \n",
              "\n",
              "   A8_Score  A9_Score  A10_Score  ...  gender       ethnicity jundice austim  \\\n",
              "0         1         0          0  ...       f  White-European      no     no   \n",
              "1         1         0          1  ...       m          Latino      no    yes   \n",
              "2         1         1          1  ...       m          Latino     yes    yes   \n",
              "3         1         0          1  ...       f  White-European      no    yes   \n",
              "4         1         0          0  ...       f               ?      no     no   \n",
              "\n",
              "   contry_of_res used_app_before result     age_desc relation Class/ASD  \n",
              "0  United States              no    6.0  18 and more     Self        NO  \n",
              "1         Brazil              no    5.0  18 and more     Self        NO  \n",
              "2          Spain              no    8.0  18 and more   Parent       YES  \n",
              "3  United States              no    6.0  18 and more     Self        NO  \n",
              "4          Egypt              no    2.0  18 and more        ?        NO  \n",
              "\n",
              "[5 rows x 21 columns]"
            ]
          },
          "execution_count": 3,
          "metadata": {},
          "output_type": "execute_result"
        }
      ],
      "source": [
        "df1.head()"
      ]
    },
    {
      "cell_type": "code",
      "execution_count": 4,
      "id": "U39DHQUTNXCa",
      "metadata": {
        "colab": {
          "base_uri": "https://localhost:8080/",
          "height": 386
        },
        "id": "U39DHQUTNXCa",
        "outputId": "8e1d00b3-89d4-40bf-b0f6-db87b1edd799",
        "scrolled": true
      },
      "outputs": [
        {
          "data": {
            "text/html": [
              "<div>\n",
              "<style scoped>\n",
              "    .dataframe tbody tr th:only-of-type {\n",
              "        vertical-align: middle;\n",
              "    }\n",
              "\n",
              "    .dataframe tbody tr th {\n",
              "        vertical-align: top;\n",
              "    }\n",
              "\n",
              "    .dataframe thead th {\n",
              "        text-align: right;\n",
              "    }\n",
              "</style>\n",
              "<table border=\"1\" class=\"dataframe\">\n",
              "  <thead>\n",
              "    <tr style=\"text-align: right;\">\n",
              "      <th></th>\n",
              "      <th>A1_Score</th>\n",
              "      <th>A2_Score</th>\n",
              "      <th>A3_Score</th>\n",
              "      <th>A4_Score</th>\n",
              "      <th>A5_Score</th>\n",
              "      <th>A6_Score</th>\n",
              "      <th>A7_Score</th>\n",
              "      <th>A8_Score</th>\n",
              "      <th>A9_Score</th>\n",
              "      <th>A10_Score</th>\n",
              "      <th>...</th>\n",
              "      <th>gender</th>\n",
              "      <th>ethnicity</th>\n",
              "      <th>jundice</th>\n",
              "      <th>austim</th>\n",
              "      <th>contry_of_res</th>\n",
              "      <th>used_app_before</th>\n",
              "      <th>result</th>\n",
              "      <th>age_desc</th>\n",
              "      <th>relation</th>\n",
              "      <th>Class/ASD</th>\n",
              "    </tr>\n",
              "  </thead>\n",
              "  <tbody>\n",
              "    <tr>\n",
              "      <th>0</th>\n",
              "      <td>1</td>\n",
              "      <td>1</td>\n",
              "      <td>0</td>\n",
              "      <td>0</td>\n",
              "      <td>1</td>\n",
              "      <td>1</td>\n",
              "      <td>0</td>\n",
              "      <td>1</td>\n",
              "      <td>0</td>\n",
              "      <td>0</td>\n",
              "      <td>...</td>\n",
              "      <td>m</td>\n",
              "      <td>Others</td>\n",
              "      <td>no</td>\n",
              "      <td>no</td>\n",
              "      <td>Jordan</td>\n",
              "      <td>no</td>\n",
              "      <td>5</td>\n",
              "      <td>4-11 years</td>\n",
              "      <td>Parent</td>\n",
              "      <td>NO</td>\n",
              "    </tr>\n",
              "    <tr>\n",
              "      <th>1</th>\n",
              "      <td>1</td>\n",
              "      <td>1</td>\n",
              "      <td>0</td>\n",
              "      <td>0</td>\n",
              "      <td>1</td>\n",
              "      <td>1</td>\n",
              "      <td>0</td>\n",
              "      <td>1</td>\n",
              "      <td>0</td>\n",
              "      <td>0</td>\n",
              "      <td>...</td>\n",
              "      <td>m</td>\n",
              "      <td>Middle Eastern</td>\n",
              "      <td>no</td>\n",
              "      <td>no</td>\n",
              "      <td>Jordan</td>\n",
              "      <td>no</td>\n",
              "      <td>5</td>\n",
              "      <td>4-11 years</td>\n",
              "      <td>Parent</td>\n",
              "      <td>NO</td>\n",
              "    </tr>\n",
              "    <tr>\n",
              "      <th>2</th>\n",
              "      <td>1</td>\n",
              "      <td>1</td>\n",
              "      <td>0</td>\n",
              "      <td>0</td>\n",
              "      <td>0</td>\n",
              "      <td>1</td>\n",
              "      <td>1</td>\n",
              "      <td>1</td>\n",
              "      <td>0</td>\n",
              "      <td>0</td>\n",
              "      <td>...</td>\n",
              "      <td>m</td>\n",
              "      <td>?</td>\n",
              "      <td>no</td>\n",
              "      <td>no</td>\n",
              "      <td>Jordan</td>\n",
              "      <td>yes</td>\n",
              "      <td>5</td>\n",
              "      <td>4-11 years</td>\n",
              "      <td>?</td>\n",
              "      <td>NO</td>\n",
              "    </tr>\n",
              "    <tr>\n",
              "      <th>3</th>\n",
              "      <td>0</td>\n",
              "      <td>1</td>\n",
              "      <td>0</td>\n",
              "      <td>0</td>\n",
              "      <td>1</td>\n",
              "      <td>1</td>\n",
              "      <td>0</td>\n",
              "      <td>0</td>\n",
              "      <td>0</td>\n",
              "      <td>1</td>\n",
              "      <td>...</td>\n",
              "      <td>f</td>\n",
              "      <td>?</td>\n",
              "      <td>yes</td>\n",
              "      <td>no</td>\n",
              "      <td>Jordan</td>\n",
              "      <td>no</td>\n",
              "      <td>4</td>\n",
              "      <td>4-11 years</td>\n",
              "      <td>?</td>\n",
              "      <td>NO</td>\n",
              "    </tr>\n",
              "    <tr>\n",
              "      <th>4</th>\n",
              "      <td>1</td>\n",
              "      <td>1</td>\n",
              "      <td>1</td>\n",
              "      <td>1</td>\n",
              "      <td>1</td>\n",
              "      <td>1</td>\n",
              "      <td>1</td>\n",
              "      <td>1</td>\n",
              "      <td>1</td>\n",
              "      <td>1</td>\n",
              "      <td>...</td>\n",
              "      <td>m</td>\n",
              "      <td>Others</td>\n",
              "      <td>yes</td>\n",
              "      <td>no</td>\n",
              "      <td>United States</td>\n",
              "      <td>no</td>\n",
              "      <td>10</td>\n",
              "      <td>4-11 years</td>\n",
              "      <td>Parent</td>\n",
              "      <td>YES</td>\n",
              "    </tr>\n",
              "  </tbody>\n",
              "</table>\n",
              "<p>5 rows × 21 columns</p>\n",
              "</div>"
            ],
            "text/plain": [
              "   A1_Score  A2_Score  A3_Score  A4_Score  A5_Score  A6_Score  A7_Score  \\\n",
              "0         1         1         0         0         1         1         0   \n",
              "1         1         1         0         0         1         1         0   \n",
              "2         1         1         0         0         0         1         1   \n",
              "3         0         1         0         0         1         1         0   \n",
              "4         1         1         1         1         1         1         1   \n",
              "\n",
              "   A8_Score  A9_Score  A10_Score  ...  gender        ethnicity jundice austim  \\\n",
              "0         1         0          0  ...       m           Others      no     no   \n",
              "1         1         0          0  ...       m  Middle Eastern       no     no   \n",
              "2         1         0          0  ...       m                ?      no     no   \n",
              "3         0         0          1  ...       f                ?     yes     no   \n",
              "4         1         1          1  ...       m           Others     yes     no   \n",
              "\n",
              "   contry_of_res used_app_before result    age_desc relation Class/ASD  \n",
              "0         Jordan              no      5  4-11 years   Parent        NO  \n",
              "1         Jordan              no      5  4-11 years   Parent        NO  \n",
              "2         Jordan             yes      5  4-11 years        ?        NO  \n",
              "3         Jordan              no      4  4-11 years        ?        NO  \n",
              "4  United States              no     10  4-11 years   Parent       YES  \n",
              "\n",
              "[5 rows x 21 columns]"
            ]
          },
          "execution_count": 4,
          "metadata": {},
          "output_type": "execute_result"
        }
      ],
      "source": [
        "df2.head()"
      ]
    },
    {
      "cell_type": "code",
      "execution_count": 5,
      "id": "s6Z29EUsNXCa",
      "metadata": {
        "colab": {
          "base_uri": "https://localhost:8080/",
          "height": 337
        },
        "id": "s6Z29EUsNXCa",
        "outputId": "6e48d39c-ba67-4077-c265-b5b3b52c8132",
        "scrolled": false
      },
      "outputs": [
        {
          "data": {
            "text/html": [
              "<div>\n",
              "<style scoped>\n",
              "    .dataframe tbody tr th:only-of-type {\n",
              "        vertical-align: middle;\n",
              "    }\n",
              "\n",
              "    .dataframe tbody tr th {\n",
              "        vertical-align: top;\n",
              "    }\n",
              "\n",
              "    .dataframe thead th {\n",
              "        text-align: right;\n",
              "    }\n",
              "</style>\n",
              "<table border=\"1\" class=\"dataframe\">\n",
              "  <thead>\n",
              "    <tr style=\"text-align: right;\">\n",
              "      <th></th>\n",
              "      <th>A1</th>\n",
              "      <th>A2</th>\n",
              "      <th>A3</th>\n",
              "      <th>A4</th>\n",
              "      <th>A5</th>\n",
              "      <th>A6</th>\n",
              "      <th>A7</th>\n",
              "      <th>A8</th>\n",
              "      <th>A9</th>\n",
              "      <th>A10</th>\n",
              "      <th>Age_Mons</th>\n",
              "      <th>Qchat-10-Score</th>\n",
              "      <th>Sex</th>\n",
              "      <th>Ethnicity</th>\n",
              "      <th>Jaundice</th>\n",
              "      <th>Family_mem_with_ASD</th>\n",
              "      <th>Who completed the test</th>\n",
              "      <th>Class/ASD Traits</th>\n",
              "    </tr>\n",
              "  </thead>\n",
              "  <tbody>\n",
              "    <tr>\n",
              "      <th>0</th>\n",
              "      <td>0</td>\n",
              "      <td>0</td>\n",
              "      <td>0</td>\n",
              "      <td>0</td>\n",
              "      <td>0</td>\n",
              "      <td>0</td>\n",
              "      <td>1</td>\n",
              "      <td>1</td>\n",
              "      <td>0</td>\n",
              "      <td>1</td>\n",
              "      <td>28</td>\n",
              "      <td>3</td>\n",
              "      <td>f</td>\n",
              "      <td>middle eastern</td>\n",
              "      <td>yes</td>\n",
              "      <td>no</td>\n",
              "      <td>family member</td>\n",
              "      <td>No</td>\n",
              "    </tr>\n",
              "    <tr>\n",
              "      <th>1</th>\n",
              "      <td>1</td>\n",
              "      <td>1</td>\n",
              "      <td>0</td>\n",
              "      <td>0</td>\n",
              "      <td>0</td>\n",
              "      <td>1</td>\n",
              "      <td>1</td>\n",
              "      <td>0</td>\n",
              "      <td>0</td>\n",
              "      <td>0</td>\n",
              "      <td>36</td>\n",
              "      <td>4</td>\n",
              "      <td>m</td>\n",
              "      <td>White European</td>\n",
              "      <td>yes</td>\n",
              "      <td>no</td>\n",
              "      <td>family member</td>\n",
              "      <td>Yes</td>\n",
              "    </tr>\n",
              "    <tr>\n",
              "      <th>2</th>\n",
              "      <td>1</td>\n",
              "      <td>0</td>\n",
              "      <td>0</td>\n",
              "      <td>0</td>\n",
              "      <td>0</td>\n",
              "      <td>0</td>\n",
              "      <td>1</td>\n",
              "      <td>1</td>\n",
              "      <td>0</td>\n",
              "      <td>1</td>\n",
              "      <td>36</td>\n",
              "      <td>4</td>\n",
              "      <td>m</td>\n",
              "      <td>middle eastern</td>\n",
              "      <td>yes</td>\n",
              "      <td>no</td>\n",
              "      <td>family member</td>\n",
              "      <td>Yes</td>\n",
              "    </tr>\n",
              "    <tr>\n",
              "      <th>3</th>\n",
              "      <td>1</td>\n",
              "      <td>1</td>\n",
              "      <td>1</td>\n",
              "      <td>1</td>\n",
              "      <td>1</td>\n",
              "      <td>1</td>\n",
              "      <td>1</td>\n",
              "      <td>1</td>\n",
              "      <td>1</td>\n",
              "      <td>1</td>\n",
              "      <td>24</td>\n",
              "      <td>10</td>\n",
              "      <td>m</td>\n",
              "      <td>Hispanic</td>\n",
              "      <td>no</td>\n",
              "      <td>no</td>\n",
              "      <td>family member</td>\n",
              "      <td>Yes</td>\n",
              "    </tr>\n",
              "    <tr>\n",
              "      <th>4</th>\n",
              "      <td>1</td>\n",
              "      <td>1</td>\n",
              "      <td>0</td>\n",
              "      <td>1</td>\n",
              "      <td>1</td>\n",
              "      <td>1</td>\n",
              "      <td>1</td>\n",
              "      <td>1</td>\n",
              "      <td>1</td>\n",
              "      <td>1</td>\n",
              "      <td>20</td>\n",
              "      <td>9</td>\n",
              "      <td>f</td>\n",
              "      <td>White European</td>\n",
              "      <td>no</td>\n",
              "      <td>yes</td>\n",
              "      <td>family member</td>\n",
              "      <td>Yes</td>\n",
              "    </tr>\n",
              "  </tbody>\n",
              "</table>\n",
              "</div>"
            ],
            "text/plain": [
              "   A1  A2  A3  A4  A5  A6  A7  A8  A9  A10  Age_Mons  Qchat-10-Score Sex  \\\n",
              "0   0   0   0   0   0   0   1   1   0    1        28               3   f   \n",
              "1   1   1   0   0   0   1   1   0   0    0        36               4   m   \n",
              "2   1   0   0   0   0   0   1   1   0    1        36               4   m   \n",
              "3   1   1   1   1   1   1   1   1   1    1        24              10   m   \n",
              "4   1   1   0   1   1   1   1   1   1    1        20               9   f   \n",
              "\n",
              "        Ethnicity Jaundice Family_mem_with_ASD Who completed the test  \\\n",
              "0  middle eastern      yes                  no          family member   \n",
              "1  White European      yes                  no          family member   \n",
              "2  middle eastern      yes                  no          family member   \n",
              "3        Hispanic       no                  no          family member   \n",
              "4  White European       no                 yes          family member   \n",
              "\n",
              "  Class/ASD Traits   \n",
              "0                No  \n",
              "1               Yes  \n",
              "2               Yes  \n",
              "3               Yes  \n",
              "4               Yes  "
            ]
          },
          "execution_count": 5,
          "metadata": {},
          "output_type": "execute_result"
        }
      ],
      "source": [
        "df3.head()"
      ]
    },
    {
      "cell_type": "code",
      "execution_count": 6,
      "id": "D6wW9-x0NXCb",
      "metadata": {
        "colab": {
          "base_uri": "https://localhost:8080/"
        },
        "id": "D6wW9-x0NXCb",
        "outputId": "53df10f6-f646-4dc7-c357-9ed8b8029525",
        "scrolled": true
      },
      "outputs": [
        {
          "data": {
            "text/plain": [
              "Index(['A1_Score', 'A2_Score', 'A3_Score', 'A4_Score', 'A5_Score', 'A6_Score',\n",
              "       'A7_Score', 'A8_Score', 'A9_Score', 'A10_Score', 'age', 'gender',\n",
              "       'ethnicity', 'jundice', 'austim', 'contry_of_res', 'used_app_before',\n",
              "       'result', 'age_desc', 'relation', 'Class/ASD'],\n",
              "      dtype='object')"
            ]
          },
          "execution_count": 6,
          "metadata": {},
          "output_type": "execute_result"
        }
      ],
      "source": [
        "df1.columns"
      ]
    },
    {
      "cell_type": "code",
      "execution_count": 7,
      "id": "6Sqxq2j-NXCc",
      "metadata": {
        "colab": {
          "base_uri": "https://localhost:8080/"
        },
        "id": "6Sqxq2j-NXCc",
        "outputId": "2a6ca881-fb85-4163-aaaf-86a567efd13f"
      },
      "outputs": [
        {
          "data": {
            "text/plain": [
              "Index(['A1_Score', 'A2_Score', 'A3_Score', 'A4_Score', 'A5_Score', 'A6_Score',\n",
              "       'A7_Score', 'A8_Score', 'A9_Score', 'A10_Score', 'age', 'gender',\n",
              "       'ethnicity', 'jundice', 'austim', 'contry_of_res', 'used_app_before',\n",
              "       'result', 'age_desc', 'relation', 'Class/ASD'],\n",
              "      dtype='object')"
            ]
          },
          "execution_count": 7,
          "metadata": {},
          "output_type": "execute_result"
        }
      ],
      "source": [
        "df2.columns"
      ]
    },
    {
      "cell_type": "code",
      "execution_count": 8,
      "id": "q2ChvDlONXCd",
      "metadata": {
        "colab": {
          "base_uri": "https://localhost:8080/"
        },
        "id": "q2ChvDlONXCd",
        "outputId": "daae26e9-7424-4867-ba40-d2fd3ecc9825"
      },
      "outputs": [
        {
          "data": {
            "text/plain": [
              "Index(['A1', 'A2', 'A3', 'A4', 'A5', 'A6', 'A7', 'A8', 'A9', 'A10', 'Age_Mons',\n",
              "       'Qchat-10-Score', 'Sex', 'Ethnicity', 'Jaundice', 'Family_mem_with_ASD',\n",
              "       'Who completed the test', 'Class/ASD Traits '],\n",
              "      dtype='object')"
            ]
          },
          "execution_count": 8,
          "metadata": {},
          "output_type": "execute_result"
        }
      ],
      "source": [
        "df3.columns"
      ]
    },
    {
      "cell_type": "code",
      "execution_count": 9,
      "id": "DHhHz6LcNXCe",
      "metadata": {
        "id": "DHhHz6LcNXCe",
        "scrolled": true
      },
      "outputs": [],
      "source": [
        "df1.dropna(inplace=True)\n",
        "df2.dropna(inplace=True)\n",
        "df3.dropna(inplace=True)"
      ]
    },
    {
      "cell_type": "code",
      "execution_count": 10,
      "id": "_2JmAgrQNXCf",
      "metadata": {
        "id": "_2JmAgrQNXCf"
      },
      "outputs": [],
      "source": [
        "def prepro(data):\n",
        "    re = dict()\n",
        "    re['contry_of_res'] = 'country'\n",
        "    re['jundice'] = 'jaundice'\n",
        "    re['relation'] = 'Who completed the test'\n",
        "    for i in data:\n",
        "        if ('_Score' in i):\n",
        "            re[i]= i[:-6]\n",
        "    data.drop(['austim','used_app_before','age_desc','result'],axis=1,inplace=True)\n",
        "    data[\"Class/ASD\"] = data[\"Class/ASD\"].apply(lambda s : s.capitalize())\n",
        "    data.rename(columns=re,inplace=True)  \n",
        "    data['ethnicity'] = data['ethnicity'].replace('?','Others')\n",
        "    data['ethnicity'] = data['ethnicity'].replace('others','Others')\n",
        "    data['ethnicity'] = data['ethnicity'].replace('White-European','White European')\n",
        "    data['Who completed the test'] = data['Who completed the test'].replace('self','Self')\n",
        "    data['Who completed the test'] = data['Who completed the test'].replace('?','Others')\n",
        "    return data\n",
        "df1 = prepro(df1)\n",
        "df2 = prepro(df2)"
      ]
    },
    {
      "cell_type": "code",
      "execution_count": 11,
      "id": "PUCZ0eERNXCg",
      "metadata": {
        "id": "PUCZ0eERNXCg"
      },
      "outputs": [],
      "source": [
        "r = dict()\n",
        "r[\"Age_Mons\"] = \"age\"\n",
        "r[\"Sex\"] = \"gender\"\n",
        "r[\"Ethnicity\"] = \"ethnicity\"\n",
        "r[\"Jaundice\"] = \"jaundice\"\n",
        "r[\"Class/ASD Traits \"] = \"Class/ASD\"\n",
        "df3.drop(['Qchat-10-Score'],axis=1,inplace=True)\n",
        "df3.rename(columns=r,inplace=True)\n",
        "df3[\"ethnicity\"] = df3[\"ethnicity\"].apply(lambda s : s.title())\n",
        "df3[\"age\"] = df3[\"age\"].apply(lambda x: round(x/12, 1))\n",
        "df3['ethnicity'] = df3['ethnicity'].replace('Pacifica','Pasifika')\n",
        "df3['Who completed the test'] = df3['Who completed the test'].replace('Health care professional','Health Care Professional')\n",
        "df3['Who completed the test'] = df3['Who completed the test'].replace('family member','Relative')"
      ]
    },
    {
      "cell_type": "code",
      "execution_count": 12,
      "id": "j-Tc7HDXwqfY",
      "metadata": {
        "id": "j-Tc7HDXwqfY"
      },
      "outputs": [],
      "source": [
        "d1 = df1.copy()\n",
        "d2 = df2.copy()\n",
        "d3 = df3.copy()"
      ]
    },
    {
      "cell_type": "code",
      "execution_count": 13,
      "id": "-5SzQ19LNXCg",
      "metadata": {
        "id": "-5SzQ19LNXCg"
      },
      "outputs": [],
      "source": [
        "from sklearn.preprocessing import LabelEncoder"
      ]
    },
    {
      "cell_type": "code",
      "execution_count": 14,
      "id": "pgM3ZGeNuv6Y",
      "metadata": {
        "id": "pgM3ZGeNuv6Y"
      },
      "outputs": [],
      "source": [
        "from collections import defaultdict\n",
        "d = defaultdict(LabelEncoder)\n",
        "\n",
        "co = ['gender','ethnicity','jaundice','country','Who completed the test','Class/ASD','Family_mem_with_ASD']"
      ]
    },
    {
      "cell_type": "code",
      "execution_count": 15,
      "id": "vrvX7ZEeuz4A",
      "metadata": {
        "id": "vrvX7ZEeuz4A"
      },
      "outputs": [],
      "source": [
        "def le(df,n):\n",
        "    df.apply(lambda x: d[x.name].fit_transform(x))\n",
        "    for i in d.copy():\n",
        "        if i not in co:\n",
        "            del d[i]\n",
        "    pickle.dump(d, open(\"Pickle//encoder\"+str(n)+\".pkl\", \"wb\"))        \n",
        "    return d"
      ]
    },
    {
      "cell_type": "code",
      "execution_count": 16,
      "id": "WSqfQtbtu1sQ",
      "metadata": {
        "id": "WSqfQtbtu1sQ"
      },
      "outputs": [],
      "source": [
        "def en(q,n):\n",
        "    d = pickle.load(open(\"Pickle//encoder\"+str(n)+\".pkl\", \"rb\"))\n",
        "    q = q.apply(lambda x: d[x.name].transform(x) if x.name in co else x)    \n",
        "    return q"
      ]
    },
    {
      "cell_type": "code",
      "execution_count": 17,
      "id": "QDdJTCViu3mI",
      "metadata": {
        "id": "QDdJTCViu3mI"
      },
      "outputs": [],
      "source": [
        "def pro(df,n):\n",
        "    d = le(df,n)\n",
        "    return en(df,n)\n",
        "     \n",
        "\n",
        "df1 = pro(df1,1)\n",
        "df2 = pro(df2,2)\n",
        "df3 = pro(df3,3)"
      ]
    },
    {
      "cell_type": "code",
      "execution_count": 18,
      "id": "tymc_mQcNXCj",
      "metadata": {
        "colab": {
          "base_uri": "https://localhost:8080/",
          "height": 206
        },
        "id": "tymc_mQcNXCj",
        "outputId": "5fc43614-85a0-4ac1-9376-b7eea296f66d",
        "scrolled": false
      },
      "outputs": [
        {
          "data": {
            "text/html": [
              "<div>\n",
              "<style scoped>\n",
              "    .dataframe tbody tr th:only-of-type {\n",
              "        vertical-align: middle;\n",
              "    }\n",
              "\n",
              "    .dataframe tbody tr th {\n",
              "        vertical-align: top;\n",
              "    }\n",
              "\n",
              "    .dataframe thead th {\n",
              "        text-align: right;\n",
              "    }\n",
              "</style>\n",
              "<table border=\"1\" class=\"dataframe\">\n",
              "  <thead>\n",
              "    <tr style=\"text-align: right;\">\n",
              "      <th></th>\n",
              "      <th>A1</th>\n",
              "      <th>A2</th>\n",
              "      <th>A3</th>\n",
              "      <th>A4</th>\n",
              "      <th>A5</th>\n",
              "      <th>A6</th>\n",
              "      <th>A7</th>\n",
              "      <th>A8</th>\n",
              "      <th>A9</th>\n",
              "      <th>A10</th>\n",
              "      <th>age</th>\n",
              "      <th>gender</th>\n",
              "      <th>ethnicity</th>\n",
              "      <th>jaundice</th>\n",
              "      <th>country</th>\n",
              "      <th>Who completed the test</th>\n",
              "      <th>Class/ASD</th>\n",
              "    </tr>\n",
              "  </thead>\n",
              "  <tbody>\n",
              "    <tr>\n",
              "      <th>0</th>\n",
              "      <td>1</td>\n",
              "      <td>1</td>\n",
              "      <td>1</td>\n",
              "      <td>1</td>\n",
              "      <td>0</td>\n",
              "      <td>0</td>\n",
              "      <td>1</td>\n",
              "      <td>1</td>\n",
              "      <td>0</td>\n",
              "      <td>0</td>\n",
              "      <td>26.0</td>\n",
              "      <td>0</td>\n",
              "      <td>9</td>\n",
              "      <td>0</td>\n",
              "      <td>64</td>\n",
              "      <td>4</td>\n",
              "      <td>0</td>\n",
              "    </tr>\n",
              "    <tr>\n",
              "      <th>1</th>\n",
              "      <td>1</td>\n",
              "      <td>1</td>\n",
              "      <td>0</td>\n",
              "      <td>1</td>\n",
              "      <td>0</td>\n",
              "      <td>0</td>\n",
              "      <td>0</td>\n",
              "      <td>1</td>\n",
              "      <td>0</td>\n",
              "      <td>1</td>\n",
              "      <td>24.0</td>\n",
              "      <td>1</td>\n",
              "      <td>3</td>\n",
              "      <td>0</td>\n",
              "      <td>13</td>\n",
              "      <td>4</td>\n",
              "      <td>0</td>\n",
              "    </tr>\n",
              "    <tr>\n",
              "      <th>2</th>\n",
              "      <td>1</td>\n",
              "      <td>1</td>\n",
              "      <td>0</td>\n",
              "      <td>1</td>\n",
              "      <td>1</td>\n",
              "      <td>0</td>\n",
              "      <td>1</td>\n",
              "      <td>1</td>\n",
              "      <td>1</td>\n",
              "      <td>1</td>\n",
              "      <td>27.0</td>\n",
              "      <td>1</td>\n",
              "      <td>3</td>\n",
              "      <td>1</td>\n",
              "      <td>56</td>\n",
              "      <td>2</td>\n",
              "      <td>1</td>\n",
              "    </tr>\n",
              "    <tr>\n",
              "      <th>3</th>\n",
              "      <td>1</td>\n",
              "      <td>1</td>\n",
              "      <td>0</td>\n",
              "      <td>1</td>\n",
              "      <td>0</td>\n",
              "      <td>0</td>\n",
              "      <td>1</td>\n",
              "      <td>1</td>\n",
              "      <td>0</td>\n",
              "      <td>1</td>\n",
              "      <td>35.0</td>\n",
              "      <td>0</td>\n",
              "      <td>9</td>\n",
              "      <td>0</td>\n",
              "      <td>64</td>\n",
              "      <td>4</td>\n",
              "      <td>0</td>\n",
              "    </tr>\n",
              "    <tr>\n",
              "      <th>4</th>\n",
              "      <td>1</td>\n",
              "      <td>0</td>\n",
              "      <td>0</td>\n",
              "      <td>0</td>\n",
              "      <td>0</td>\n",
              "      <td>0</td>\n",
              "      <td>0</td>\n",
              "      <td>1</td>\n",
              "      <td>0</td>\n",
              "      <td>0</td>\n",
              "      <td>40.0</td>\n",
              "      <td>0</td>\n",
              "      <td>5</td>\n",
              "      <td>0</td>\n",
              "      <td>22</td>\n",
              "      <td>1</td>\n",
              "      <td>0</td>\n",
              "    </tr>\n",
              "  </tbody>\n",
              "</table>\n",
              "</div>"
            ],
            "text/plain": [
              "   A1  A2  A3  A4  A5  A6  A7  A8  A9  A10   age  gender  ethnicity  jaundice  \\\n",
              "0   1   1   1   1   0   0   1   1   0    0  26.0       0          9         0   \n",
              "1   1   1   0   1   0   0   0   1   0    1  24.0       1          3         0   \n",
              "2   1   1   0   1   1   0   1   1   1    1  27.0       1          3         1   \n",
              "3   1   1   0   1   0   0   1   1   0    1  35.0       0          9         0   \n",
              "4   1   0   0   0   0   0   0   1   0    0  40.0       0          5         0   \n",
              "\n",
              "   country  Who completed the test  Class/ASD  \n",
              "0       64                       4          0  \n",
              "1       13                       4          0  \n",
              "2       56                       2          1  \n",
              "3       64                       4          0  \n",
              "4       22                       1          0  "
            ]
          },
          "execution_count": 18,
          "metadata": {},
          "output_type": "execute_result"
        }
      ],
      "source": [
        "df1.head()"
      ]
    },
    {
      "cell_type": "code",
      "execution_count": 19,
      "id": "mzQzIEM0NXCk",
      "metadata": {
        "colab": {
          "base_uri": "https://localhost:8080/",
          "height": 206
        },
        "id": "mzQzIEM0NXCk",
        "outputId": "c61a699c-05b6-4e95-8ca9-597561970ee8",
        "scrolled": true
      },
      "outputs": [
        {
          "data": {
            "text/html": [
              "<div>\n",
              "<style scoped>\n",
              "    .dataframe tbody tr th:only-of-type {\n",
              "        vertical-align: middle;\n",
              "    }\n",
              "\n",
              "    .dataframe tbody tr th {\n",
              "        vertical-align: top;\n",
              "    }\n",
              "\n",
              "    .dataframe thead th {\n",
              "        text-align: right;\n",
              "    }\n",
              "</style>\n",
              "<table border=\"1\" class=\"dataframe\">\n",
              "  <thead>\n",
              "    <tr style=\"text-align: right;\">\n",
              "      <th></th>\n",
              "      <th>A1</th>\n",
              "      <th>A2</th>\n",
              "      <th>A3</th>\n",
              "      <th>A4</th>\n",
              "      <th>A5</th>\n",
              "      <th>A6</th>\n",
              "      <th>A7</th>\n",
              "      <th>A8</th>\n",
              "      <th>A9</th>\n",
              "      <th>A10</th>\n",
              "      <th>age</th>\n",
              "      <th>gender</th>\n",
              "      <th>ethnicity</th>\n",
              "      <th>jaundice</th>\n",
              "      <th>country</th>\n",
              "      <th>Who completed the test</th>\n",
              "      <th>Class/ASD</th>\n",
              "    </tr>\n",
              "  </thead>\n",
              "  <tbody>\n",
              "    <tr>\n",
              "      <th>0</th>\n",
              "      <td>1</td>\n",
              "      <td>1</td>\n",
              "      <td>0</td>\n",
              "      <td>0</td>\n",
              "      <td>1</td>\n",
              "      <td>1</td>\n",
              "      <td>0</td>\n",
              "      <td>1</td>\n",
              "      <td>0</td>\n",
              "      <td>0</td>\n",
              "      <td>6.0</td>\n",
              "      <td>1</td>\n",
              "      <td>5</td>\n",
              "      <td>0</td>\n",
              "      <td>24</td>\n",
              "      <td>2</td>\n",
              "      <td>0</td>\n",
              "    </tr>\n",
              "    <tr>\n",
              "      <th>1</th>\n",
              "      <td>1</td>\n",
              "      <td>1</td>\n",
              "      <td>0</td>\n",
              "      <td>0</td>\n",
              "      <td>1</td>\n",
              "      <td>1</td>\n",
              "      <td>0</td>\n",
              "      <td>1</td>\n",
              "      <td>0</td>\n",
              "      <td>0</td>\n",
              "      <td>6.0</td>\n",
              "      <td>1</td>\n",
              "      <td>4</td>\n",
              "      <td>0</td>\n",
              "      <td>24</td>\n",
              "      <td>2</td>\n",
              "      <td>0</td>\n",
              "    </tr>\n",
              "    <tr>\n",
              "      <th>2</th>\n",
              "      <td>1</td>\n",
              "      <td>1</td>\n",
              "      <td>0</td>\n",
              "      <td>0</td>\n",
              "      <td>0</td>\n",
              "      <td>1</td>\n",
              "      <td>1</td>\n",
              "      <td>1</td>\n",
              "      <td>0</td>\n",
              "      <td>0</td>\n",
              "      <td>6.0</td>\n",
              "      <td>1</td>\n",
              "      <td>5</td>\n",
              "      <td>0</td>\n",
              "      <td>24</td>\n",
              "      <td>1</td>\n",
              "      <td>0</td>\n",
              "    </tr>\n",
              "    <tr>\n",
              "      <th>3</th>\n",
              "      <td>0</td>\n",
              "      <td>1</td>\n",
              "      <td>0</td>\n",
              "      <td>0</td>\n",
              "      <td>1</td>\n",
              "      <td>1</td>\n",
              "      <td>0</td>\n",
              "      <td>0</td>\n",
              "      <td>0</td>\n",
              "      <td>1</td>\n",
              "      <td>5.0</td>\n",
              "      <td>0</td>\n",
              "      <td>5</td>\n",
              "      <td>1</td>\n",
              "      <td>24</td>\n",
              "      <td>1</td>\n",
              "      <td>0</td>\n",
              "    </tr>\n",
              "    <tr>\n",
              "      <th>4</th>\n",
              "      <td>1</td>\n",
              "      <td>1</td>\n",
              "      <td>1</td>\n",
              "      <td>1</td>\n",
              "      <td>1</td>\n",
              "      <td>1</td>\n",
              "      <td>1</td>\n",
              "      <td>1</td>\n",
              "      <td>1</td>\n",
              "      <td>1</td>\n",
              "      <td>5.0</td>\n",
              "      <td>1</td>\n",
              "      <td>5</td>\n",
              "      <td>1</td>\n",
              "      <td>51</td>\n",
              "      <td>2</td>\n",
              "      <td>1</td>\n",
              "    </tr>\n",
              "  </tbody>\n",
              "</table>\n",
              "</div>"
            ],
            "text/plain": [
              "   A1  A2  A3  A4  A5  A6  A7  A8  A9  A10  age  gender  ethnicity  jaundice  \\\n",
              "0   1   1   0   0   1   1   0   1   0    0  6.0       1          5         0   \n",
              "1   1   1   0   0   1   1   0   1   0    0  6.0       1          4         0   \n",
              "2   1   1   0   0   0   1   1   1   0    0  6.0       1          5         0   \n",
              "3   0   1   0   0   1   1   0   0   0    1  5.0       0          5         1   \n",
              "4   1   1   1   1   1   1   1   1   1    1  5.0       1          5         1   \n",
              "\n",
              "   country  Who completed the test  Class/ASD  \n",
              "0       24                       2          0  \n",
              "1       24                       2          0  \n",
              "2       24                       1          0  \n",
              "3       24                       1          0  \n",
              "4       51                       2          1  "
            ]
          },
          "execution_count": 19,
          "metadata": {},
          "output_type": "execute_result"
        }
      ],
      "source": [
        "df2.head()"
      ]
    },
    {
      "cell_type": "code",
      "execution_count": 20,
      "id": "g_7nmOLoNXCm",
      "metadata": {
        "colab": {
          "base_uri": "https://localhost:8080/",
          "height": 206
        },
        "id": "g_7nmOLoNXCm",
        "outputId": "0cc1c861-a656-4d7f-8b0e-a0b936e787e8",
        "scrolled": true
      },
      "outputs": [
        {
          "data": {
            "text/html": [
              "<div>\n",
              "<style scoped>\n",
              "    .dataframe tbody tr th:only-of-type {\n",
              "        vertical-align: middle;\n",
              "    }\n",
              "\n",
              "    .dataframe tbody tr th {\n",
              "        vertical-align: top;\n",
              "    }\n",
              "\n",
              "    .dataframe thead th {\n",
              "        text-align: right;\n",
              "    }\n",
              "</style>\n",
              "<table border=\"1\" class=\"dataframe\">\n",
              "  <thead>\n",
              "    <tr style=\"text-align: right;\">\n",
              "      <th></th>\n",
              "      <th>A1</th>\n",
              "      <th>A2</th>\n",
              "      <th>A3</th>\n",
              "      <th>A4</th>\n",
              "      <th>A5</th>\n",
              "      <th>A6</th>\n",
              "      <th>A7</th>\n",
              "      <th>A8</th>\n",
              "      <th>A9</th>\n",
              "      <th>A10</th>\n",
              "      <th>age</th>\n",
              "      <th>gender</th>\n",
              "      <th>ethnicity</th>\n",
              "      <th>jaundice</th>\n",
              "      <th>Family_mem_with_ASD</th>\n",
              "      <th>Who completed the test</th>\n",
              "      <th>Class/ASD</th>\n",
              "    </tr>\n",
              "  </thead>\n",
              "  <tbody>\n",
              "    <tr>\n",
              "      <th>0</th>\n",
              "      <td>0</td>\n",
              "      <td>0</td>\n",
              "      <td>0</td>\n",
              "      <td>0</td>\n",
              "      <td>0</td>\n",
              "      <td>0</td>\n",
              "      <td>1</td>\n",
              "      <td>1</td>\n",
              "      <td>0</td>\n",
              "      <td>1</td>\n",
              "      <td>2.3</td>\n",
              "      <td>0</td>\n",
              "      <td>4</td>\n",
              "      <td>1</td>\n",
              "      <td>0</td>\n",
              "      <td>2</td>\n",
              "      <td>0</td>\n",
              "    </tr>\n",
              "    <tr>\n",
              "      <th>1</th>\n",
              "      <td>1</td>\n",
              "      <td>1</td>\n",
              "      <td>0</td>\n",
              "      <td>0</td>\n",
              "      <td>0</td>\n",
              "      <td>1</td>\n",
              "      <td>1</td>\n",
              "      <td>0</td>\n",
              "      <td>0</td>\n",
              "      <td>0</td>\n",
              "      <td>3.0</td>\n",
              "      <td>1</td>\n",
              "      <td>10</td>\n",
              "      <td>1</td>\n",
              "      <td>0</td>\n",
              "      <td>2</td>\n",
              "      <td>1</td>\n",
              "    </tr>\n",
              "    <tr>\n",
              "      <th>2</th>\n",
              "      <td>1</td>\n",
              "      <td>0</td>\n",
              "      <td>0</td>\n",
              "      <td>0</td>\n",
              "      <td>0</td>\n",
              "      <td>0</td>\n",
              "      <td>1</td>\n",
              "      <td>1</td>\n",
              "      <td>0</td>\n",
              "      <td>1</td>\n",
              "      <td>3.0</td>\n",
              "      <td>1</td>\n",
              "      <td>4</td>\n",
              "      <td>1</td>\n",
              "      <td>0</td>\n",
              "      <td>2</td>\n",
              "      <td>1</td>\n",
              "    </tr>\n",
              "    <tr>\n",
              "      <th>3</th>\n",
              "      <td>1</td>\n",
              "      <td>1</td>\n",
              "      <td>1</td>\n",
              "      <td>1</td>\n",
              "      <td>1</td>\n",
              "      <td>1</td>\n",
              "      <td>1</td>\n",
              "      <td>1</td>\n",
              "      <td>1</td>\n",
              "      <td>1</td>\n",
              "      <td>2.0</td>\n",
              "      <td>1</td>\n",
              "      <td>2</td>\n",
              "      <td>0</td>\n",
              "      <td>0</td>\n",
              "      <td>2</td>\n",
              "      <td>1</td>\n",
              "    </tr>\n",
              "    <tr>\n",
              "      <th>4</th>\n",
              "      <td>1</td>\n",
              "      <td>1</td>\n",
              "      <td>0</td>\n",
              "      <td>1</td>\n",
              "      <td>1</td>\n",
              "      <td>1</td>\n",
              "      <td>1</td>\n",
              "      <td>1</td>\n",
              "      <td>1</td>\n",
              "      <td>1</td>\n",
              "      <td>1.7</td>\n",
              "      <td>0</td>\n",
              "      <td>10</td>\n",
              "      <td>0</td>\n",
              "      <td>1</td>\n",
              "      <td>2</td>\n",
              "      <td>1</td>\n",
              "    </tr>\n",
              "  </tbody>\n",
              "</table>\n",
              "</div>"
            ],
            "text/plain": [
              "   A1  A2  A3  A4  A5  A6  A7  A8  A9  A10  age  gender  ethnicity  jaundice  \\\n",
              "0   0   0   0   0   0   0   1   1   0    1  2.3       0          4         1   \n",
              "1   1   1   0   0   0   1   1   0   0    0  3.0       1         10         1   \n",
              "2   1   0   0   0   0   0   1   1   0    1  3.0       1          4         1   \n",
              "3   1   1   1   1   1   1   1   1   1    1  2.0       1          2         0   \n",
              "4   1   1   0   1   1   1   1   1   1    1  1.7       0         10         0   \n",
              "\n",
              "   Family_mem_with_ASD  Who completed the test  Class/ASD  \n",
              "0                    0                       2          0  \n",
              "1                    0                       2          1  \n",
              "2                    0                       2          1  \n",
              "3                    0                       2          1  \n",
              "4                    1                       2          1  "
            ]
          },
          "execution_count": 20,
          "metadata": {},
          "output_type": "execute_result"
        }
      ],
      "source": [
        "df3.head()"
      ]
    },
    {
      "cell_type": "code",
      "execution_count": 21,
      "id": "fOYHeuulNy-E",
      "metadata": {
        "id": "fOYHeuulNy-E"
      },
      "outputs": [],
      "source": [
        "import warnings\n",
        "warnings.filterwarnings(\"ignore\")"
      ]
    },
    {
      "cell_type": "code",
      "execution_count": 22,
      "id": "XmOYliqBm068",
      "metadata": {
        "id": "XmOYliqBm068"
      },
      "outputs": [],
      "source": [
        "from sklearn import metrics"
      ]
    },
    {
      "cell_type": "markdown",
      "id": "vvHs6iF7UOWg",
      "metadata": {
        "id": "vvHs6iF7UOWg"
      },
      "source": [
        "# MODEL DEVELOPMENT"
      ]
    },
    {
      "cell_type": "code",
      "execution_count": 23,
      "id": "JIsJTLpyURWt",
      "metadata": {
        "id": "JIsJTLpyURWt"
      },
      "outputs": [],
      "source": [
        "from sklearn.neighbors import KNeighborsClassifier"
      ]
    },
    {
      "cell_type": "code",
      "execution_count": 24,
      "id": "snfQ3YdrUSUf",
      "metadata": {
        "id": "snfQ3YdrUSUf"
      },
      "outputs": [],
      "source": [
        "from sklearn.tree import DecisionTreeClassifier"
      ]
    },
    {
      "cell_type": "code",
      "execution_count": 25,
      "id": "bRYyQUM8UTvG",
      "metadata": {
        "id": "bRYyQUM8UTvG"
      },
      "outputs": [],
      "source": [
        "from sklearn.svm import SVC"
      ]
    },
    {
      "cell_type": "code",
      "execution_count": 26,
      "id": "czBCOp6-UVYI",
      "metadata": {
        "id": "czBCOp6-UVYI"
      },
      "outputs": [],
      "source": [
        "from sklearn.naive_bayes import GaussianNB"
      ]
    },
    {
      "cell_type": "markdown",
      "id": "XDYEjGf9NXCn",
      "metadata": {
        "id": "XDYEjGf9NXCn"
      },
      "source": [
        "# ADULTS"
      ]
    },
    {
      "cell_type": "code",
      "execution_count": 27,
      "id": "mFicnAuANXCp",
      "metadata": {
        "id": "mFicnAuANXCp"
      },
      "outputs": [],
      "source": [
        "X1 = df1.iloc[:,:-1]\n",
        "y1 = df1.iloc[:,-1]"
      ]
    },
    {
      "cell_type": "code",
      "execution_count": 28,
      "id": "ukCWf2VxNXCr",
      "metadata": {
        "id": "ukCWf2VxNXCr"
      },
      "outputs": [],
      "source": [
        "from sklearn.model_selection import train_test_split\n",
        "\n",
        "X1_train, X1_test, y1_train, y1_test = train_test_split(X1, y1,test_size = 0.2,random_state = 42)"
      ]
    },
    {
      "cell_type": "markdown",
      "id": "xxbzFw9vSX29",
      "metadata": {
        "id": "xxbzFw9vSX29"
      },
      "source": [
        "## KNN"
      ]
    },
    {
      "cell_type": "code",
      "execution_count": 29,
      "id": "ejTO9ywSSX2_",
      "metadata": {
        "colab": {
          "base_uri": "https://localhost:8080/"
        },
        "id": "ejTO9ywSSX2_",
        "outputId": "53f32db4-fe79-4740-92c5-fd8796ca670e"
      },
      "outputs": [
        {
          "name": "stdout",
          "output_type": "stream",
          "text": [
            "ACCURACY: 0.6950\n"
          ]
        }
      ],
      "source": [
        "model1 = KNeighborsClassifier(n_neighbors=3)\n",
        "model1.fit(X1_train, y1_train)\n",
        "\n",
        "pred1 = model1.predict(X1_test) \n",
        "print(\"ACCURACY: %.4f\"%metrics.accuracy_score(y1_test,pred1))"
      ]
    },
    {
      "cell_type": "markdown",
      "id": "ooRNo4JJNXCv",
      "metadata": {
        "id": "ooRNo4JJNXCv"
      },
      "source": [
        "## DECISION TREE"
      ]
    },
    {
      "cell_type": "code",
      "execution_count": 30,
      "id": "nBe7EHoMNXCw",
      "metadata": {
        "colab": {
          "base_uri": "https://localhost:8080/"
        },
        "id": "nBe7EHoMNXCw",
        "outputId": "869f6373-1c49-4e02-c659-2bc595a5b4b9"
      },
      "outputs": [
        {
          "name": "stdout",
          "output_type": "stream",
          "text": [
            "ACCURACY: 0.9007\n"
          ]
        }
      ],
      "source": [
        "model2 = DecisionTreeClassifier()\n",
        "model2.fit(X1_train, y1_train)\n",
        "\n",
        "pred2 = model2.predict(X1_test) \n",
        "print(\"ACCURACY: %.4f\"%metrics.accuracy_score(y1_test,pred2))"
      ]
    },
    {
      "cell_type": "markdown",
      "id": "MdWANymONXCw",
      "metadata": {
        "id": "MdWANymONXCw"
      },
      "source": [
        "## SVM"
      ]
    },
    {
      "cell_type": "code",
      "execution_count": 31,
      "id": "_s1B4guKNXCx",
      "metadata": {
        "colab": {
          "base_uri": "https://localhost:8080/"
        },
        "id": "_s1B4guKNXCx",
        "outputId": "9d541db4-0248-429c-f9ad-7e723b04bb87"
      },
      "outputs": [
        {
          "name": "stdout",
          "output_type": "stream",
          "text": [
            "ACCURACY: 0.6950\n"
          ]
        }
      ],
      "source": [
        "model3= SVC(probability=True)\n",
        "model3.fit(X1_train, y1_train)\n",
        "\n",
        "pred3 = model1.predict(X1_test) \n",
        "print(\"ACCURACY: %.4f\"%metrics.accuracy_score(y1_test,pred3))"
      ]
    },
    {
      "cell_type": "markdown",
      "id": "XBWgcgIfNXCx",
      "metadata": {
        "id": "XBWgcgIfNXCx"
      },
      "source": [
        "## NAIVE BAYES"
      ]
    },
    {
      "cell_type": "code",
      "execution_count": 32,
      "id": "UhuZhZo3NXCx",
      "metadata": {
        "colab": {
          "base_uri": "https://localhost:8080/"
        },
        "id": "UhuZhZo3NXCx",
        "outputId": "0f7b4c35-6b9b-4ae3-d067-4ef39c13356c"
      },
      "outputs": [
        {
          "name": "stdout",
          "output_type": "stream",
          "text": [
            "ACCURACY: 0.9716\n"
          ]
        }
      ],
      "source": [
        "model4 = GaussianNB()\n",
        "model4.fit(X1_train, y1_train)\n",
        "\n",
        "pred4 = model4.predict(X1_test) \n",
        "print(\"ACCURACY: %.4f\"%metrics.accuracy_score(y1_test,pred4))"
      ]
    },
    {
      "cell_type": "markdown",
      "id": "-Hd86vNkNXCz",
      "metadata": {
        "id": "-Hd86vNkNXCz"
      },
      "source": [
        "# CHILDREN"
      ]
    },
    {
      "cell_type": "code",
      "execution_count": 33,
      "id": "qC6ov1YgNXCz",
      "metadata": {
        "id": "qC6ov1YgNXCz"
      },
      "outputs": [],
      "source": [
        "X2 = df2.iloc[:,:-1]\n",
        "y2 = df2.iloc[:,-1]"
      ]
    },
    {
      "cell_type": "code",
      "execution_count": 34,
      "id": "KZvV9gdRNXCz",
      "metadata": {
        "id": "KZvV9gdRNXCz"
      },
      "outputs": [],
      "source": [
        "from sklearn.model_selection import train_test_split\n",
        "\n",
        "X2_train, X2_test, y2_train, y2_test = train_test_split(X2, y2,test_size = 0.2,random_state = 42)"
      ]
    },
    {
      "cell_type": "markdown",
      "id": "dzDT6PFMSAWr",
      "metadata": {
        "id": "dzDT6PFMSAWr"
      },
      "source": [
        "## KNN"
      ]
    },
    {
      "cell_type": "code",
      "execution_count": 35,
      "id": "2jX5ibReR-SM",
      "metadata": {
        "colab": {
          "base_uri": "https://localhost:8080/"
        },
        "id": "2jX5ibReR-SM",
        "outputId": "fc52398f-1dc6-4a52-c888-4a182f4b592e"
      },
      "outputs": [
        {
          "name": "stdout",
          "output_type": "stream",
          "text": [
            "ACCURACY: 0.5345\n"
          ]
        }
      ],
      "source": [
        "model1 = KNeighborsClassifier(n_neighbors=3)\n",
        "model1.fit(X2_train, y2_train)\n",
        "\n",
        "pred1 = model1.predict(X2_test) \n",
        "print(\"ACCURACY: %.4f\"%metrics.accuracy_score(y2_test,pred1))"
      ]
    },
    {
      "cell_type": "markdown",
      "id": "XFqksTwpNXC0",
      "metadata": {
        "id": "XFqksTwpNXC0"
      },
      "source": [
        "## DECISION TREE"
      ]
    },
    {
      "cell_type": "code",
      "execution_count": 36,
      "id": "jz41FCzhNXC0",
      "metadata": {
        "colab": {
          "base_uri": "https://localhost:8080/"
        },
        "id": "jz41FCzhNXC0",
        "outputId": "231a325e-23dc-4aa9-faa8-d4469a064233"
      },
      "outputs": [
        {
          "name": "stdout",
          "output_type": "stream",
          "text": [
            "ACCURACY: 0.8103\n"
          ]
        }
      ],
      "source": [
        "model2 = DecisionTreeClassifier()\n",
        "model2.fit(X2_train, y2_train)\n",
        "\n",
        "pred2 = model2.predict(X2_test) \n",
        "print(\"ACCURACY: %.4f\"%metrics.accuracy_score(y2_test,pred2))"
      ]
    },
    {
      "cell_type": "markdown",
      "id": "L1_gXh-iNXC1",
      "metadata": {
        "id": "L1_gXh-iNXC1"
      },
      "source": [
        "## SVM"
      ]
    },
    {
      "cell_type": "code",
      "execution_count": 37,
      "id": "INj5MtHoNXC1",
      "metadata": {
        "colab": {
          "base_uri": "https://localhost:8080/"
        },
        "id": "INj5MtHoNXC1",
        "outputId": "1cd485c1-2d51-4ade-9d0b-9bb136e11829",
        "scrolled": true
      },
      "outputs": [
        {
          "name": "stdout",
          "output_type": "stream",
          "text": [
            "ACCURACY: 0.5345\n"
          ]
        }
      ],
      "source": [
        "model3= SVC(probability=True)\n",
        "model3.fit(X2_train, y2_train)\n",
        "\n",
        "pred3 = model1.predict(X2_test) \n",
        "print(\"ACCURACY: %.4f\"%metrics.accuracy_score(y2_test,pred3))"
      ]
    },
    {
      "cell_type": "markdown",
      "id": "0htNy4EPNXC1",
      "metadata": {
        "id": "0htNy4EPNXC1"
      },
      "source": [
        "## NAIVE BAYES"
      ]
    },
    {
      "cell_type": "code",
      "execution_count": 38,
      "id": "zIyTyRn_NXC2",
      "metadata": {
        "colab": {
          "base_uri": "https://localhost:8080/"
        },
        "id": "zIyTyRn_NXC2",
        "outputId": "765db927-eea2-4716-c714-76d116b4b690"
      },
      "outputs": [
        {
          "name": "stdout",
          "output_type": "stream",
          "text": [
            "ACCURACY: 0.8448\n"
          ]
        }
      ],
      "source": [
        "model4 = GaussianNB()\n",
        "model4.fit(X2_train, y2_train)\n",
        "\n",
        "pred4 = model4.predict(X2_test) \n",
        "print(\"ACCURACY: %.4f\"%metrics.accuracy_score(y2_test,pred4))"
      ]
    },
    {
      "cell_type": "markdown",
      "id": "bAUA3AGgNXC3",
      "metadata": {
        "id": "bAUA3AGgNXC3"
      },
      "source": [
        "# TODDLERS"
      ]
    },
    {
      "cell_type": "code",
      "execution_count": 39,
      "id": "ybo1mRUbNXC3",
      "metadata": {
        "id": "ybo1mRUbNXC3"
      },
      "outputs": [],
      "source": [
        "X3 = df3.iloc[:,:-1]\n",
        "y3 = df3.iloc[:,-1]"
      ]
    },
    {
      "cell_type": "code",
      "execution_count": 40,
      "id": "EarobRiNNXC4",
      "metadata": {
        "id": "EarobRiNNXC4"
      },
      "outputs": [],
      "source": [
        "from sklearn.model_selection import train_test_split\n",
        "\n",
        "X3_train, X3_test, y3_train, y3_test = train_test_split(X3, y3,test_size = 0.2,random_state = 42)"
      ]
    },
    {
      "cell_type": "markdown",
      "id": "JeTMosQrSdim",
      "metadata": {
        "id": "JeTMosQrSdim"
      },
      "source": [
        "## KNN"
      ]
    },
    {
      "cell_type": "code",
      "execution_count": 41,
      "id": "tnnqHUoQSdio",
      "metadata": {
        "colab": {
          "base_uri": "https://localhost:8080/"
        },
        "id": "tnnqHUoQSdio",
        "outputId": "c97366cf-b583-42d2-9cbd-46836b94991b"
      },
      "outputs": [
        {
          "name": "stdout",
          "output_type": "stream",
          "text": [
            "ACCURACY: 0.9431\n"
          ]
        }
      ],
      "source": [
        "model1 = KNeighborsClassifier(n_neighbors=3)\n",
        "model1.fit(X3_train, y3_train)\n",
        "\n",
        "pred1 = model1.predict(X3_test) \n",
        "print(\"ACCURACY: %.4f\"%metrics.accuracy_score(y3_test,pred1))"
      ]
    },
    {
      "cell_type": "markdown",
      "id": "FQ2dKP2rNXC5",
      "metadata": {
        "id": "FQ2dKP2rNXC5"
      },
      "source": [
        "## DECISION TREE"
      ]
    },
    {
      "cell_type": "code",
      "execution_count": 42,
      "id": "cOKZc4W9NXC5",
      "metadata": {
        "colab": {
          "base_uri": "https://localhost:8080/"
        },
        "id": "cOKZc4W9NXC5",
        "outputId": "eaef433d-a580-4c71-9553-0ea6aefb459b"
      },
      "outputs": [
        {
          "name": "stdout",
          "output_type": "stream",
          "text": [
            "ACCURACY: 0.9573\n"
          ]
        }
      ],
      "source": [
        "model2 = DecisionTreeClassifier()\n",
        "model2.fit(X3_train, y3_train)\n",
        "\n",
        "pred2 = model2.predict(X3_test) \n",
        "print(\"ACCURACY: %.4f\"%metrics.accuracy_score(y3_test,pred2))"
      ]
    },
    {
      "cell_type": "markdown",
      "id": "7_1g2L5dNXC5",
      "metadata": {
        "id": "7_1g2L5dNXC5"
      },
      "source": [
        "## SVM"
      ]
    },
    {
      "cell_type": "code",
      "execution_count": 43,
      "id": "vGk-qflaNXC6",
      "metadata": {
        "colab": {
          "base_uri": "https://localhost:8080/"
        },
        "id": "vGk-qflaNXC6",
        "outputId": "8e56e9b7-cd4e-4660-c892-e56eb4fbe0b7"
      },
      "outputs": [
        {
          "name": "stdout",
          "output_type": "stream",
          "text": [
            "ACCURACY: 0.9431\n"
          ]
        }
      ],
      "source": [
        "model3= SVC(probability=True)\n",
        "model3.fit(X3_train, y3_train)\n",
        "\n",
        "pred3 = model1.predict(X3_test) \n",
        "print(\"ACCURACY: %.4f\"%metrics.accuracy_score(y3_test,pred3))"
      ]
    },
    {
      "cell_type": "markdown",
      "id": "Q7t2iYdYNXC6",
      "metadata": {
        "id": "Q7t2iYdYNXC6"
      },
      "source": [
        "## NAIVE BAYES"
      ]
    },
    {
      "cell_type": "code",
      "execution_count": 44,
      "id": "55HY93JuNXC6",
      "metadata": {
        "colab": {
          "base_uri": "https://localhost:8080/"
        },
        "id": "55HY93JuNXC6",
        "outputId": "0597408a-1e0f-4da0-be2e-1e2344df157c"
      },
      "outputs": [
        {
          "name": "stdout",
          "output_type": "stream",
          "text": [
            "ACCURACY: 0.9479\n"
          ]
        }
      ],
      "source": [
        "model4 = GaussianNB()\n",
        "model4.fit(X3_train, y3_train)\n",
        "\n",
        "pred4 = model4.predict(X3_test) \n",
        "print(\"ACCURACY: %.4f\"%metrics.accuracy_score(y3_test,pred4))"
      ]
    },
    {
      "cell_type": "markdown",
      "id": "-AfKqsLdNXC7",
      "metadata": {
        "id": "-AfKqsLdNXC7"
      },
      "source": [
        "# VOTING CLASSIFIER"
      ]
    },
    {
      "cell_type": "code",
      "execution_count": 45,
      "id": "dWhMN-9dNXC8",
      "metadata": {
        "id": "dWhMN-9dNXC8"
      },
      "outputs": [],
      "source": [
        "from sklearn.ensemble import VotingClassifier\n",
        "from sklearn.model_selection import cross_val_score\n",
        "from sklearn.model_selection import RepeatedStratifiedKFold\n",
        "import statistics as st"
      ]
    },
    {
      "cell_type": "code",
      "execution_count": 46,
      "id": "WCBw5FhlNXC8",
      "metadata": {
        "id": "WCBw5FhlNXC8"
      },
      "outputs": [],
      "source": [
        "def evaluate_model(model, X, y):\n",
        "    cv = RepeatedStratifiedKFold(n_splits=10, n_repeats=3, random_state=1)\n",
        "    score1 = cross_val_score(model, X, y, scoring='accuracy', cv=cv, n_jobs=-1, error_score='raise')\n",
        "    score2 = cross_val_score(model, X, y, scoring='recall', cv=cv, n_jobs=-1, error_score='raise')\n",
        "    scores = [score1,score2]\n",
        "    return scores"
      ]
    },
    {
      "cell_type": "markdown",
      "id": "ozt2MuTtSK6l",
      "metadata": {
        "id": "ozt2MuTtSK6l"
      },
      "source": [
        "## HARD VOTING"
      ]
    },
    {
      "cell_type": "code",
      "execution_count": 47,
      "id": "DqV3P4P4NXC8",
      "metadata": {
        "id": "DqV3P4P4NXC8"
      },
      "outputs": [],
      "source": [
        "def voting_hard(models):\n",
        "    ensemble = VotingClassifier(estimators=models,voting='hard')\n",
        "    return ensemble"
      ]
    },
    {
      "cell_type": "code",
      "execution_count": 48,
      "id": "pbHnyWh8LX5i",
      "metadata": {
        "id": "pbHnyWh8LX5i"
      },
      "outputs": [],
      "source": [
        "ensemblemodels1 = [('KNN',KNeighborsClassifier()),('DT',DecisionTreeClassifier()),('SVM',SVC()),('NB',GaussianNB())]"
      ]
    },
    {
      "cell_type": "code",
      "execution_count": 49,
      "id": "UsZj3OTxMRKx",
      "metadata": {
        "id": "UsZj3OTxMRKx"
      },
      "outputs": [],
      "source": [
        "pv1 = voting_hard(ensemblemodels1)\n",
        "pv2 = voting_hard(ensemblemodels1)\n",
        "pv3 = voting_hard(ensemblemodels1)"
      ]
    },
    {
      "cell_type": "code",
      "execution_count": 50,
      "id": "18b440e3",
      "metadata": {},
      "outputs": [],
      "source": [
        "pe1 = evaluate_model(pv1,X1,y1)\n",
        "pe2 = evaluate_model(pv2,X2,y2)\n",
        "pe3 = evaluate_model(pv3,X3,y3)\n",
        "pe = [pe1,pe2,pe3]"
      ]
    },
    {
      "cell_type": "code",
      "execution_count": 51,
      "id": "R1d8CHBtMRKx",
      "metadata": {
        "colab": {
          "base_uri": "https://localhost:8080/"
        },
        "id": "R1d8CHBtMRKx",
        "outputId": "fe73b0f4-5308-44ee-cba0-a2414b7e6f2f",
        "scrolled": true
      },
      "outputs": [
        {
          "name": "stdout",
          "output_type": "stream",
          "text": [
            "Voting classifier 1: \n",
            "Accuracy: 0.8376\n",
            "Recall: 0.3988\n",
            "\n",
            "Voting classifier 2: \n",
            "Accuracy: 0.8389\n",
            "Recall: 0.7311\n",
            "\n",
            "Voting classifier 3: \n",
            "Accuracy: 0.9639\n",
            "Recall: 0.9611\n",
            "\n"
          ]
        }
      ],
      "source": [
        "for i in range(3):\n",
        "    print(\"Voting classifier \"+str(i+1)+\": \")\n",
        "    print(\"Accuracy: %.4f\"%(st.mean(pe[i][0])))\n",
        "    print(\"Recall: %.4f\"%(st.mean(pe[i][1])))\n",
        "    print()"
      ]
    },
    {
      "cell_type": "markdown",
      "id": "E7W4f3LiSNxY",
      "metadata": {
        "id": "E7W4f3LiSNxY"
      },
      "source": [
        "## SOFT VOTING"
      ]
    },
    {
      "cell_type": "code",
      "execution_count": 52,
      "id": "XcAb7X41AJOo",
      "metadata": {
        "id": "XcAb7X41AJOo"
      },
      "outputs": [],
      "source": [
        "ensemblemodels2 = [('KNN',KNeighborsClassifier()),('DT',DecisionTreeClassifier()),('SVM',SVC(probability=True)),('NB',GaussianNB())]"
      ]
    },
    {
      "cell_type": "code",
      "execution_count": 53,
      "id": "4l8i-mO5NXC8",
      "metadata": {
        "id": "4l8i-mO5NXC8"
      },
      "outputs": [],
      "source": [
        "def voting_soft(models):\n",
        "    ensemble = VotingClassifier(estimators=models,voting='soft')\n",
        "    return ensemble"
      ]
    },
    {
      "cell_type": "code",
      "execution_count": 54,
      "id": "Ha0-clPeM-Qr",
      "metadata": {
        "id": "Ha0-clPeM-Qr"
      },
      "outputs": [],
      "source": [
        "pvoting1 = voting_soft(ensemblemodels2)\n",
        "pvoting2 = voting_soft(ensemblemodels2)\n",
        "pvoting3 = voting_soft(ensemblemodels2)"
      ]
    },
    {
      "cell_type": "code",
      "execution_count": 55,
      "id": "fpp40zRuM-Qs",
      "metadata": {
        "id": "fpp40zRuM-Qs"
      },
      "outputs": [],
      "source": [
        "peval1 = evaluate_model(pvoting1,X1,y1)\n",
        "peval2 = evaluate_model(pvoting2,X2,y2)\n",
        "peval3 = evaluate_model(pvoting3,X3,y3)\n",
        "peval = [peval1,peval2,peval3]"
      ]
    },
    {
      "cell_type": "code",
      "execution_count": 56,
      "id": "HpwKWQCpM-Qs",
      "metadata": {
        "colab": {
          "base_uri": "https://localhost:8080/"
        },
        "id": "HpwKWQCpM-Qs",
        "outputId": "3c81c113-bf10-41b2-c547-e164446f8034"
      },
      "outputs": [
        {
          "name": "stdout",
          "output_type": "stream",
          "text": [
            "Voting classifier1: \n",
            "Accuracy: 0.9445\n",
            "Recall: 0.8835\n",
            "\n",
            "Voting classifier2: \n",
            "Accuracy: 0.9130\n",
            "Recall: 0.8877\n",
            "\n",
            "Voting classifier3: \n",
            "Accuracy: 0.9671\n",
            "Recall: 0.9785\n",
            "\n"
          ]
        }
      ],
      "source": [
        "for i in range(3):\n",
        "    print(\"Voting classifier\"+str(i+1)+\": \")\n",
        "    print(\"Accuracy: %.4f\"%(st.mean(peval[i][0])))\n",
        "    print(\"Recall: %.4f\"%(st.mean(peval[i][1])))\n",
        "    print()"
      ]
    },
    {
      "cell_type": "code",
      "execution_count": null,
      "id": "b744f40f",
      "metadata": {},
      "outputs": [],
      "source": [
        "pvoting1.fit(X1,y1)\n",
        "pvoting2.fit(X2,y2)\n",
        "pvoting3.fit(X3,y3)"
      ]
    },
    {
      "cell_type": "code",
      "execution_count": 58,
      "id": "gzVV22chT91a",
      "metadata": {
        "colab": {
          "base_uri": "https://localhost:8080/",
          "height": 55
        },
        "id": "gzVV22chT91a",
        "outputId": "919fed97-6247-4ab3-f8e2-61f54c1d3d5a"
      },
      "outputs": [],
      "source": [
        "import pickle\n",
        "\n",
        "pickle.dump(pvoting1,open('model1.pkl','wb'))\n",
        "pickle.dump(pvoting2,open('model2.pkl','wb'))\n",
        "pickle.dump(pvoting3,open('model3.pkl','wb'))"
      ]
    },
    {
      "cell_type": "code",
      "execution_count": 59,
      "id": "qDGxuuKLtrtR",
      "metadata": {
        "colab": {
          "base_uri": "https://localhost:8080/",
          "height": 36
        },
        "id": "qDGxuuKLtrtR",
        "outputId": "5ea83383-c678-4211-fc71-1e226b266b8e"
      },
      "outputs": [
        {
          "data": {
            "text/plain": [
              "(1, 16)"
            ]
          },
          "execution_count": 59,
          "metadata": {},
          "output_type": "execute_result"
        }
      ],
      "source": [
        "data = np.array([1, 1, 1, 1, 1, 0, 0, 1, 1, 1, 21, 1, 2, 0, 29, 4]).reshape(1,-1)\n",
        "data.shape"
      ]
    },
    {
      "cell_type": "code",
      "execution_count": 60,
      "id": "0nA28PssklDn",
      "metadata": {
        "colab": {
          "base_uri": "https://localhost:8080/",
          "height": 36
        },
        "id": "0nA28PssklDn",
        "outputId": "6a9c23dc-25a6-45bb-fc45-accefc822d0d"
      },
      "outputs": [],
      "source": [
        "model = pickle.load(open('model1.pkl', \"rb\"))\n",
        "pred = model.predict(data)\n",
        "if(pred):\n",
        "    res=\"ASD\"\n",
        "else:\n",
        "    res=\"NO ASD\""
      ]
    },
    {
      "cell_type": "code",
      "execution_count": 61,
      "id": "EsjX9Suzw7hh",
      "metadata": {
        "colab": {
          "base_uri": "https://localhost:8080/",
          "height": 36
        },
        "id": "EsjX9Suzw7hh",
        "outputId": "d419bae1-4747-432f-89f0-29ce3dcc29fb"
      },
      "outputs": [
        {
          "data": {
            "text/plain": [
              "1"
            ]
          },
          "execution_count": 61,
          "metadata": {},
          "output_type": "execute_result"
        }
      ],
      "source": [
        "pred[0]"
      ]
    },
    {
      "cell_type": "code",
      "execution_count": 62,
      "id": "llVLtRa3w8Sk",
      "metadata": {
        "colab": {
          "base_uri": "https://localhost:8080/",
          "height": 36
        },
        "id": "llVLtRa3w8Sk",
        "outputId": "aa9f5d82-3316-4c4f-ad39-d2b1f1871c46"
      },
      "outputs": [
        {
          "data": {
            "text/plain": [
              "'ASD'"
            ]
          },
          "execution_count": 62,
          "metadata": {},
          "output_type": "execute_result"
        }
      ],
      "source": [
        "res"
      ]
    }
  ],
  "metadata": {
    "colab": {
      "collapsed_sections": [],
      "name": "Copy of Copy of SRP.ipynb",
      "provenance": [],
      "toc_visible": true
    },
    "kernelspec": {
      "display_name": "Python 3.5.6 ('new_env')",
      "language": "python",
      "name": "python3"
    },
    "language_info": {
      "codemirror_mode": {
        "name": "ipython",
        "version": 3
      },
      "file_extension": ".py",
      "mimetype": "text/x-python",
      "name": "python",
      "nbconvert_exporter": "python",
      "pygments_lexer": "ipython3",
      "version": "3.5.6"
    },
    "vscode": {
      "interpreter": {
        "hash": "436556ed5bb5ff241ada0b7710d1b98f17fe15f6b28e337bb32db3852d8f55f7"
      }
    }
  },
  "nbformat": 4,
  "nbformat_minor": 5
}
